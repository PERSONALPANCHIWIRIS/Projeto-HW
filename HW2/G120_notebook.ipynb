{
 "cells": [
  {
   "cell_type": "markdown",
   "id": "b0d28bb8",
   "metadata": {},
   "source": [
    "Importing all Libraries\n"
   ]
  },
  {
   "cell_type": "code",
   "id": "c23180d7",
   "metadata": {
    "ExecuteTime": {
     "end_time": "2025-10-06T13:44:32.894362Z",
     "start_time": "2025-10-06T13:44:32.892120Z"
    }
   },
   "source": [
    "import pandas as panda #Manipulação de dados\n",
    "import numpy as np #Cálculos numéricos/arrays\n",
    "import matplotlib.pyplot as plot #Graficos\n",
    "import os #Para trabalhar com caminhos de arquivos\n",
    "from sklearn.model_selection import StratifiedKFold, cross_val_score, train_test_split # Folds and Acc measurement\n",
    "from sklearn.neighbors import KNeighborsClassifier # kNN\n",
    "from sklearn.naive_bayes import GaussianNB\n",
    "from sklearn.preprocessing import MinMaxScaler\n",
    "from scipy.stats import ttest_rel"
   ],
   "outputs": [],
   "execution_count": 75
  },
  {
   "cell_type": "markdown",
   "id": "add422f0",
   "metadata": {},
   "source": [
    "Accessing and prepairing data\n"
   ]
  },
  {
   "cell_type": "code",
   "id": "184d5459",
   "metadata": {
    "ExecuteTime": {
     "end_time": "2025-10-06T13:44:35.143825Z",
     "start_time": "2025-10-06T13:44:35.139443Z"
    }
   },
   "source": [
    "script_dir = os.path.abspath('')\n",
    "csv_path = os.path.join(script_dir, 'Breast_cancer_dataset.csv')\n",
    "data = panda.read_csv(csv_path)\n",
    "\n",
    "#todas as linhas, todas as colunas exceto as duas primeiras\n",
    "x = data.iloc[:, 2:-1]\n",
    "#todas as linhas, somente segunda coluna\n",
    "y = data.iloc[:, 1]\n"
   ],
   "outputs": [],
   "execution_count": 76
  },
  {
   "cell_type": "markdown",
   "id": "9057da21",
   "metadata": {},
   "source": "**1st Question -> Accuracies/Stability**"
  },
  {
   "cell_type": "code",
   "id": "99855d7c",
   "metadata": {
    "ExecuteTime": {
     "end_time": "2025-10-06T13:44:37.145615Z",
     "start_time": "2025-10-06T13:44:37.118239Z"
    }
   },
   "source": [
    "\n",
    "skf = StratifiedKFold(n_splits=5, shuffle=True, random_state=1)\n",
    "\n",
    "knn = KNeighborsClassifier(n_neighbors=5)\n",
    "nb = GaussianNB()\n",
    "\n",
    "\n",
    "knn_scores = cross_val_score(knn, x, y, cv=skf)\n",
    "nb_scores = cross_val_score(nb, x, y, cv=skf)\n",
    "\n",
    "knn_mean, knn_std = np.mean(knn_scores), np.std(knn_scores)\n",
    "nb_mean, nb_std = np.mean(nb_scores), np.std(nb_scores)\n",
    "\n",
    "print(f\"kNN mean={knn_mean:.3f}, std={knn_std:.5f}\")\n",
    "print(f\"Naïve Bayes mean={nb_mean:.3f}, std={nb_std:.5f}\")"
   ],
   "outputs": [
    {
     "name": "stdout",
     "output_type": "stream",
     "text": [
      "kNN mean=0.931, std=0.01692\n",
      "Naïve Bayes mean=0.938, std=0.01664\n"
     ]
    }
   ],
   "execution_count": 77
  },
  {
   "metadata": {},
   "cell_type": "markdown",
   "source": [
    "From the result analysis, it is possible to conclude that kNN [std=0.01692] is less stable (higher standard deviation)\n",
    "than the Naïve Bayes [std=0.01664].\n",
    "\n",
    "Regarding accuracy, the Gaussian Naïve Bayes performs better with mean score of 93.8% as opposed from 93.1% of kNN."
   ],
   "id": "5220895f6d2b0878"
  },
  {
   "metadata": {},
   "cell_type": "markdown",
   "source": "**1st Question -> Accuracies/Stability with Min-Max Scaler pre-processor**",
   "id": "f3897d59c31be704"
  },
  {
   "metadata": {
    "ExecuteTime": {
     "end_time": "2025-10-06T13:44:42.936257Z",
     "start_time": "2025-10-06T13:44:42.917322Z"
    }
   },
   "cell_type": "code",
   "source": [
    "skf = StratifiedKFold(n_splits=5, shuffle=True, random_state=1)\n",
    "x_s = MinMaxScaler().fit_transform(x)  # default [0, 1]\n",
    "\n",
    "knn_scaled_scores = cross_val_score(knn, x_s, y, cv=skf)\n",
    "nb_scaled_scores = cross_val_score(nb, x_s, y, cv=skf)\n",
    "\n",
    "knn_scaled_mean, knn_scaled_std = np.mean(knn_scaled_scores), np.std(knn_scaled_scores)\n",
    "nb_scaled_mean, nb_scaled_std = np.mean(nb_scaled_scores), np.std(nb_scaled_scores)\n",
    "\n",
    "print(f\"kNN (scaled) mean={knn_scaled_mean:.3f}, std={knn_scaled_std:.5f}\")\n",
    "print(f\"Naïve Bayes (scaled) mean={nb_scaled_mean:.3f}, std={nb_scaled_std:.5f}\")"
   ],
   "id": "2d885225b9b1096e",
   "outputs": [
    {
     "name": "stdout",
     "output_type": "stream",
     "text": [
      "kNN (scaled) mean=0.970, std=0.01808\n",
      "Naïve Bayes (scaled) mean=0.933, std=0.01619\n"
     ]
    }
   ],
   "execution_count": 78
  },
  {
   "metadata": {},
   "cell_type": "markdown",
   "source": [
    "\n",
    "From the result analysis, it is possible to conclude that kNN [std=0.01808] is still less stable (lower standard deviation)\n",
    "than the Naïve Bayes [std=0.01619].\n",
    "\n",
    "Regarding accuracy, there is a noticeable increase on kNN mean score to 97.0% and slight decrease on the GaussianNB to 93.3%.\n",
    "\n",
    "This increase score on kNN is explained by the kNN reliance on distance measurements. When the data is not scaled,\n",
    "features with larger numerical ranges dominate the distance computation, making the model less sensitive to other features.\n",
    "The Min–Max scaler normalizes all features to the same range [0, 1], ensuring that each feature contributes equally to the distance metric. As a result, the model selects more appropriate neighbors, leading to better and more consistent predictions."
   ],
   "id": "bac7370796a69837"
  },
  {
   "metadata": {},
   "cell_type": "markdown",
   "source": "**1st Question -> Statistical Superiority**",
   "id": "98accf89b05340ef"
  },
  {
   "metadata": {
    "ExecuteTime": {
     "end_time": "2025-10-06T13:44:47.845715Z",
     "start_time": "2025-10-06T13:44:47.843337Z"
    }
   },
   "cell_type": "code",
   "source": [
    "t_stat, p_value = ttest_rel(knn_scaled_scores, nb_scaled_scores)\n",
    "print(\"t-statistic:\", t_stat)\n",
    "print(\"p-value:\", p_value)"
   ],
   "id": "376edf401cc999ae",
   "outputs": [
    {
     "name": "stdout",
     "output_type": "stream",
     "text": [
      "t-statistic: 5.270430323647191\n",
      "p-value: 0.006210329221932723\n"
     ]
    }
   ],
   "execution_count": 79
  },
  {
   "metadata": {},
   "cell_type": "markdown",
   "source": "Using T-Test it is possible to conclude that with the p-value of 0.00621, the kNN model is statistically superior to the Gaussian Naïve Bayes (assuming default alpha = 0.05).",
   "id": "6482c8ad7a266f88"
  },
  {
   "metadata": {},
   "cell_type": "markdown",
   "source": "**2nd Question -> kNN (1/5/10/15/20/25) 70-30 train-test split**",
   "id": "33b4ba855eb7578"
  },
  {
   "metadata": {
    "ExecuteTime": {
     "end_time": "2025-10-06T13:44:50.225251Z",
     "start_time": "2025-10-06T13:44:50.179015Z"
    }
   },
   "cell_type": "code",
   "source": [
    "scaler = MinMaxScaler()\n",
    "x_s = scaler.fit_transform(x)\n",
    "\n",
    "# 70-30 split\n",
    "X_train, X_test, y_train, y_test = train_test_split(\n",
    "    x_s, y, test_size=0.3, random_state=1, stratify=y\n",
    ")\n",
    "\n",
    "# Different k values\n",
    "k_values = [1, 5, 10, 15, 20, 25]\n",
    "\n",
    "# Results\n",
    "train_acc_uniform = []\n",
    "test_acc_uniform = []\n",
    "train_acc_distance = []\n",
    "test_acc_distance = []\n",
    "\n",
    "# Train models\n",
    "for k in k_values:\n",
    "    # Uniform weights\n",
    "    knn_u = KNeighborsClassifier(n_neighbors=k, weights='uniform')\n",
    "    knn_u.fit(X_train, y_train)\n",
    "    train_acc_uniform.append(knn_u.score(X_train, y_train))\n",
    "    test_acc_uniform.append(knn_u.score(X_test, y_test))\n",
    "\n",
    "    # Distance weights\n",
    "    knn_d = KNeighborsClassifier(n_neighbors=k, weights='distance')\n",
    "    knn_d.fit(X_train, y_train)\n",
    "    train_acc_distance.append(knn_d.score(X_train, y_train))\n",
    "    test_acc_distance.append(knn_d.score(X_test, y_test))\n",
    "\n"
   ],
   "id": "a7b4e4063131b5f3",
   "outputs": [],
   "execution_count": 80
  },
  {
   "cell_type": "markdown",
   "id": "89315aa1",
   "metadata": {},
   "source": [
    "Plotting the accuracy graph"
   ]
  },
  {
   "cell_type": "code",
   "id": "c9001db5",
   "metadata": {
    "ExecuteTime": {
     "end_time": "2025-10-06T13:44:52.700984Z",
     "start_time": "2025-10-06T13:44:52.595552Z"
    }
   },
   "source": [
    "# Plot results\n",
    "plot.figure(figsize=(8, 6))\n",
    "plot.plot(k_values, train_acc_uniform, 'o--', label='Train (uniform)')\n",
    "plot.plot(k_values, test_acc_uniform, 'o-', label='Test (uniform)')\n",
    "plot.plot(k_values, train_acc_distance, 's--', label='Train (distance)')\n",
    "plot.plot(k_values, test_acc_distance, 's-', label='Test (distance)')\n",
    "plot.xlabel('Number of neighbors (k)')\n",
    "plot.ylabel('Accuracy')\n",
    "plot.title('kNN performance with uniform vs distance weights')\n",
    "plot.legend()\n",
    "plot.grid(True)\n",
    "plot.show()"
   ],
   "outputs": [
    {
     "data": {
      "text/plain": [
       "<Figure size 800x600 with 1 Axes>"
      ],
      "image/png": "[encoded data removed]"
     },
     "metadata": {},
     "output_type": "display_data"
    }
   ],
   "execution_count": 81
  },
  {
   "cell_type": "markdown",
   "id": "23525c6d",
   "metadata": {},
   "source": [
    "\n",
    "**2nd Question -> Graph Analysis**\n",
    "\n",
    "Using a 70–30 train-test split, kNN classifiers were trained with k = {1, 5, 10, 15, 20, 25} using both uniform and distance-based weighting.\n",
    "The train and test accuracies are plotted above.\n",
    "\n",
    "The results show that for small k (k = 1), the model overfits, with high training accuracy and lower test accuracy. As k increases, both accuracies converge, indicating reduced variance but increased bias.\n",
    "\n",
    "Distance weighting tends to yield considerable higher test accuracy, especially for small k, since closer neighbors are given more influence during prediction.\n",
    "\n",
    "Given this data, the optimal k value is k=5, since it presents the highest measured test accuracy on both distance and uniform weights.\n"
   ]
  },
  {
   "cell_type": "markdown",
   "id": "d8e6c751",
   "metadata": {},
   "source": "**3rd Question (extra analysis - confusion matrix)**"
  },
  {
   "cell_type": "code",
   "id": "03b4d6e3",
   "metadata": {
    "ExecuteTime": {
     "end_time": "2025-10-06T13:44:58.883387Z",
     "start_time": "2025-10-06T13:44:58.868108Z"
    }
   },
   "source": [
    "from sklearn.metrics import classification_report\n",
    "from sklearn.metrics import confusion_matrix\n",
    "\n",
    "# Scale features\n",
    "scaler = MinMaxScaler()\n",
    "X_scaled = scaler.fit_transform(x)\n",
    "\n",
    "# 70-30 train-test split\n",
    "X_train, X_test, y_train, y_test = train_test_split(\n",
    "    X_scaled, y, test_size=0.3, random_state=1, stratify=y\n",
    ")\n",
    "\n",
    "knn = KNeighborsClassifier(n_neighbors=5, weights='distance')\n",
    "nb = GaussianNB()\n",
    "\n",
    "# Train models\n",
    "knn.fit(X_train, y_train)\n",
    "nb.fit(X_train, y_train)\n",
    "\n",
    "# Predict\n",
    "y_pred_knn = knn.predict(X_test)\n",
    "y_pred_nb = nb.predict(X_test)\n",
    "\n",
    "# Confusion matrices\n",
    "cm_knn = confusion_matrix(y_test, y_pred_knn, labels=['M','B'])\n",
    "cm_nb = confusion_matrix(y_test, y_pred_nb, labels=['M','B'])\n",
    "\n",
    "print(\"Confusion Matrix - kNN (rows=actual, cols=predicted):\")\n",
    "print(cm_knn)\n",
    "print(\"\\nConfusion Matrix - Naïve Bayes (rows=actual, cols=predicted):\")\n",
    "print(cm_nb)\n",
    "\n",
    "# False negatives = actual 'M' but predicted 'B'\n",
    "fn_knn = cm_knn[0,1]\n",
    "fn_nb = cm_nb[0,1]\n",
    "\n",
    "print(f\"\\nFalse negatives - kNN: {fn_knn}\")\n",
    "print(f\"False negatives - Naïve Bayes: {fn_nb}\")\n",
    "\n",
    "# Classification reports\n",
    "print(\"\\nClassification Report - kNN:\")\n",
    "print(classification_report(y_test, y_pred_knn, target_names=['M','B']))\n",
    "\n",
    "print(\"\\nClassification Report - Naïve Bayes:\")\n",
    "print(classification_report(y_test, y_pred_nb, target_names=['M','B']))"
   ],
   "outputs": [
    {
     "name": "stdout",
     "output_type": "stream",
     "text": [
      "Confusion Matrix - kNN (rows=actual, cols=predicted):\n",
      "[[ 58   6]\n",
      " [  1 106]]\n",
      "\n",
      "Confusion Matrix - Naïve Bayes (rows=actual, cols=predicted):\n",
      "[[ 54  10]\n",
      " [  2 105]]\n",
      "\n",
      "False negatives - kNN: 6\n",
      "False negatives - Naïve Bayes: 10\n",
      "\n",
      "Classification Report - kNN:\n",
      "              precision    recall  f1-score   support\n",
      "\n",
      "           M       0.95      0.99      0.97       107\n",
      "           B       0.98      0.91      0.94        64\n",
      "\n",
      "    accuracy                           0.96       171\n",
      "   macro avg       0.96      0.95      0.96       171\n",
      "weighted avg       0.96      0.96      0.96       171\n",
      "\n",
      "\n",
      "Classification Report - Naïve Bayes:\n",
      "              precision    recall  f1-score   support\n",
      "\n",
      "           M       0.91      0.98      0.95       107\n",
      "           B       0.96      0.84      0.90        64\n",
      "\n",
      "    accuracy                           0.93       171\n",
      "   macro avg       0.94      0.91      0.92       171\n",
      "weighted avg       0.93      0.93      0.93       171\n",
      "\n"
     ]
    }
   ],
   "execution_count": 82
  },
  {
   "cell_type": "markdown",
   "id": "d641d876",
   "metadata": {},
   "source": [
    "**3rd Question -> Clinical setting deployment kNN vs Naïve Bayes**\n",
    "\n",
    "Based on the tests ran, both kNN and Gaussian Naïve Bayes achieved high accuracies on the breast cancer dataset. However, the scaled kNN model achieved a mean accuracy of 97%, while the scaled Naïve Bayes model reached about 93%. Furthermore, the sci-py statistical testing (p-value = 0.006) indicated that the kNN improvement was significant.\n",
    "\n",
    "\n",
    "1. Interpretability and transparency:\n",
    "\n",
    "In medical diagnosis, clinicians should understand and trust the model’s reasoning. Naïve Bayes offers high interpretability — it provides explicit probabilities for each class and the contribution of each feature under the Gaussian assumption. In contrast, kNN can considered be considered non-interpretable: it predicts based on neighboring samples in the feature space, without providing a clear rule or explanation. Thus, from an interpretability standpoint, Naïve Bayes is preferable.\n",
    "\n",
    "2. Computational cost and scalability:\n",
    "\n",
    "kNN requires storing the entire training dataset and performing distance calculations for every new patient sample. This gets computationally expensive and memory-intensive, as more data is acquired/added to the training. On the other hand, Naïve Bayes stores a small number of parameters and performs predictions faster, making it preferable from a deployment and scalability perspective.\n",
    "\n",
    "3. Predictive performance and robustness:\n",
    "\n",
    "Although kNN achieved statistically higher accuracy after scaling, its performance can be sensitive to the choice of k, distance metric, and data scaling. Naïve Bayes is more robust to small data variations and noise but limited by its assumption of feature independence and normality. On structured and moderately sized medical datasets, this tradeoff often results in slightly lower accuracy but more stable deployment behavior. However, the recall metric is better on the kNN model,\n",
    "specially on malignant diagnosis averaging a 99% recall (fewer false negatives -> safer on clinical/medical context).\n",
    "\n",
    "Overall conclusion:\n",
    "\n",
    "Unless the computing capabilities are the limiting factor and there are additional explainability tools (e.g., case-based reasoning or visualization of nearest neighbors), the kNN model would be the choice for this context, given the higher predictive performance and recall.\n",
    "\n",
    "However, if computing limits are in order, the Naïve Bayes model can still be acceptable in a clinical environment due to its explainability, low computational cost, and ease of deployment."
   ]
  }
 ],
 "metadata": {
  "kernelspec": {
   "display_name": "Python 3",
   "language": "python",
   "name": "python3"
  },
  "language_info": {
   "name": "python",
   "version": "3.12.3"
  }
 },
 "nbformat": 4,
 "nbformat_minor": 5
}
