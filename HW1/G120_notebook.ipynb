{
 "cells": [
  {
   "cell_type": "markdown",
   "id": "b0d28bb8",
   "metadata": {},
   "source": [
    "Importing all Libraries\n"
   ]
  },
  {
   "cell_type": "code",
   "execution_count": null,
   "id": "c23180d7",
   "metadata": {},
   "outputs": [],
   "source": [
    "import pandas as panda #Manipulação de dados\n",
    "import numpy as np #Cálculos numéricos/arrays\n",
    "import matplotlib.pyplot as plot #Graficos\n",
    "import os #Para trabalhar com caminhos de arquivos\n",
    "from sklearn.model_selection import train_test_split #Split\n",
    "from sklearn.tree import DecisionTreeClassifier #Decision tree"
   ]
  },
  {
   "cell_type": "markdown",
   "id": "add422f0",
   "metadata": {},
   "source": [
    "Accessing and prepairing data\n"
   ]
  },
  {
   "cell_type": "code",
   "execution_count": null,
   "id": "184d5459",
   "metadata": {},
   "outputs": [],
   "source": [
    "cript_dir = os.path.dirname(os.path.abspath(__file__))\n",
    "csv_path = os.path.join(script_dir, 'hungarian_heart_diseases.csv')\n",
    "data = panda.read_csv(csv_path)\n",
    "\n",
    "#todas as linhas, todas as colunas exceto a ultima\n",
    "x = data.iloc[:, : -1]\n",
    "#todas as linhas, apenas a ultima coluna\n",
    "y = data.iloc[:, -1]"
   ]
  },
  {
   "cell_type": "markdown",
   "id": "9057da21",
   "metadata": {},
   "source": [
    "**1st Question**"
   ]
  },
  {
   "cell_type": "code",
   "execution_count": null,
   "id": "99855d7c",
   "metadata": {},
   "outputs": [],
   "source": [
    "#Divide a data e, dois grupos. 80% treino, 20% teste\n",
    "X_train, X_test, y_train, y_test = train_test_split(\n",
    "    x, y, test_size=0.2, stratify=y, random_state=1\n",
    ")\n",
    "\n",
    "leaf_capacity = [1, 3, 5, 10, 25, 50, 100]\n",
    "train_accuracy = []\n",
    "test_accuracy = []\n",
    "\n",
    "#Para cada valor de leaf_capacity, cria uma árvore de decisão\n",
    "#Depois calcula a accuracy de treino e de teste\n",
    "for leaf in leaf_capacity:\n",
    "    tree = DecisionTreeClassifier(min_samples_leaf=leaf, random_state=1)\n",
    "    tree.fit(X_train, y_train)\n",
    "    train_accuracy.append(tree.score(X_train, y_train))\n",
    "    test_accuracy.append(tree.score(X_test, y_test))"
   ]
  },
  {
   "cell_type": "markdown",
   "id": "89315aa1",
   "metadata": {},
   "source": [
    "Plotting the accuracy graph"
   ]
  },
  {
   "cell_type": "code",
   "execution_count": null,
   "id": "c9001db5",
   "metadata": {},
   "outputs": [],
   "source": [
    "plot.figure(figsize=(12,8))\n",
    "#plot.figure(figsize=(8,4))\n",
    "#Cria os gráficos\n",
    "plot.plot(leaf_capacity, train_accuracy, marker='o', label=\"Train Accuracy\")\n",
    "#Circulos para treino\n",
    "plot.plot(leaf_capacity, test_accuracy, marker='s', label=\"Test Accuracy\")\n",
    "#Quadrados para teste\n",
    "plot.xlabel(\"Min Samples per Leaf\")\n",
    "plot.ylabel(\"Accuracy\")\n",
    "plot.title(\"Decision Tree Accuracy by Minimum Samples per Leaf\")\n",
    "plot.legend()\n",
    "plot.grid(True)\n",
    "plot.savefig('80-20.png', dpi=300, bbox_inches='tight')\n",
    "plot.close()"
   ]
  },
  {
   "cell_type": "markdown",
   "id": "0cafb7f3",
   "metadata": {},
   "source": [
    "<img src=\"80-20.png\" alt=\"Decision Tree Accuracy\" width=\"1200\">"
   ]
  },
  {
   "cell_type": "markdown",
   "id": "23525c6d",
   "metadata": {},
   "source": [
    "<div style=\"max-width: 800px; text-align: left;\">\n",
    "\n",
    "**2nd Question -> Graph Analysis**\n",
    "\n",
    "By analyzing the graph, we can conclude that for a minimal leaf capacity of 1, the training capacity is 100%, which indicates overfitting, an overly complicated tree, but with a reduced test accuracy (around 77%), meaning that the tree is memorizing data. For bigger minimal leaf capacities, both the training accuracy lowers and the testing accuracy increases, evidence of a more generalized tree. The best performance is with a minimal leaf capacity of 25, where the testing accuracy hits its peak (around 86%).\n",
    "\n",
    "For values >25, we encounter a case of underfitting, both accuracies plummeting, because the tree is excessively generalized, nodes are very restrictive and do not allow for necessary splitting.\n",
    "\n",
    "</div>\n"
   ]
  },
  {
   "cell_type": "markdown",
   "id": "d8e6c751",
   "metadata": {},
   "source": [
    "**3rd Question**"
   ]
  },
  {
   "cell_type": "code",
   "execution_count": null,
   "id": "03b4d6e3",
   "metadata": {},
   "outputs": [],
   "source": [
    "from sklearn.model_selection import train_test_split, ParameterGrid\n",
    "from sklearn.metrics import accuracy_score\n",
    "from sklearn.tree import plot_tree\n",
    "import matplotlib.pyplot as plot\n",
    "import pandas as panda\n",
    "import os\n",
    "from sklearn.tree import DecisionTreeClassifier #Decision tree\n",
    "\n",
    "script_dir = os.path.dirname(os.path.abspath(__file__))\n",
    "csv_path = os.path.join(script_dir, 'hungarian_heart_diseases.csv')\n",
    "data = panda.read_csv(csv_path)\n",
    "\n",
    "#todas as linhas, todas as colunas exceto a ultima\n",
    "x = data.iloc[:, : -1]\n",
    "#todas as linhas, apenas a ultima coluna\n",
    "y = data.iloc[:, -1]\n"
   ]
  },
  {
   "cell_type": "markdown",
   "id": "d641d876",
   "metadata": {},
   "source": [
    "60-20-20 split"
   ]
  },
  {
   "cell_type": "code",
   "execution_count": null,
   "id": "e111d44a",
   "metadata": {},
   "outputs": [],
   "source": [
    "#60-40 split (60 para o train, 40 para o resto)\n",
    "x_train, x_rest, y_train, y_rest = train_test_split(\n",
    "    x, y, test_size=0.4, stratify=y, random_state=1\n",
    ")\n",
    "#20-20 split (20 para validação, 20 para teste)\n",
    "#Do resto (40%)\n",
    "x_val, x_test, y_val, y_test = train_test_split(\n",
    "    x_rest, y_rest, test_size=0.5, stratify=y_rest, random_state=1\n",
    ")"
   ]
  },
  {
   "cell_type": "markdown",
   "id": "d9809864",
   "metadata": {},
   "source": [
    "Finding the best parameters"
   ]
  },
  {
   "cell_type": "code",
   "execution_count": null,
   "id": "7ee44922",
   "metadata": {},
   "outputs": [],
   "source": [
    "#Limitações dos hiperparâmetros\n",
    "parameters = {\"max_depth\": [2, 3, 4], \"min_samples_split\": range(2, 101)}\n",
    "best_model = None\n",
    "best_params = None\n",
    "best_val_acc = 0\n",
    "best_test_acc = 0\n",
    "\n",
    "for params in ParameterGrid(parameters):\n",
    "    classifier = DecisionTreeClassifier(\n",
    "        max_depth = params[\"max_depth\"],\n",
    "        min_samples_split = params[\"min_samples_split\"],\n",
    "        random_state = 1\n",
    "    )\n",
    "    classifier.fit(x_train, y_train)\n",
    "    val_acc = classifier.score(x_val, y_val)\n",
    "    test_acc = classifier.score(x_test, y_test)\n",
    "\n",
    "    #Encontramos um melhor no teste\n",
    "    #At least 80, 78.5% in test\n",
    "    #if val_acc >= 0.80 and test_acc >= 0.785 and val_acc > best_val_acc:\n",
    "    if val_acc >= 0.80 and test_acc >= 0.785 and test_acc > best_test_acc:\n",
    "        best_model = classifier\n",
    "        best_val_acc = val_acc\n",
    "        best_params = params\n",
    "        best_test_acc = test_acc"
   ]
  },
  {
   "cell_type": "markdown",
   "id": "87339dc0",
   "metadata": {},
   "source": [
    "Plotting"
   ]
  },
  {
   "cell_type": "code",
   "execution_count": null,
   "id": "da6a7918",
   "metadata": {},
   "outputs": [],
   "source": [
    "#O melhor de todos\n",
    "plot.figure(figsize=(12,8))\n",
    "#plot.title(\"Decision Tree\")\n",
    "#plot.legend()\n",
    "plot.suptitle(\"Decision Tree\", fontsize=16, y=0.95)\n",
    "plot.tight_layout()\n",
    "plot_tree(best_model, feature_names=x.columns, class_names=[\"Normal\",\"Heart Disease\"], filled=True)\n",
    "#plot.show()\n",
    "plot.savefig('60-20-20.png', dpi=300, bbox_inches='tight')\n",
    "plot.close()"
   ]
  },
  {
   "cell_type": "markdown",
   "id": "937b31d6",
   "metadata": {},
   "source": [
    "<img src=\"60-20-20.png\" alt=\"Decision Tree\" width=\"1200\">"
   ]
  },
  {
   "cell_type": "markdown",
   "id": "26b348ab",
   "metadata": {},
   "source": [
    "Decision tree explanation and analysis\n"
   ]
  },
  {
   "cell_type": "markdown",
   "id": "7cd4110e",
   "metadata": {},
   "source": [
    "<div style=\"max-width: 800px; text-align: left\">\n",
    "What identifies heart disease->\n",
    "\n",
    "- With chest_pain <= 3.5 AND old_peak <= 0.5: 1 heart_disease -> 98.8% NORMAL\n",
    "\n",
    "- With chest_pain <= 3.5 AND old_peak > 0.5: 6 heart_disease -> 66.7% NORMAL\n",
    "\n",
    "- With chest_pain > 3.5: 10 normal -> 85.51% HEART DISEASE\n",
    "\n",
    "- With chest_pain > 3.5 AND old_peak <= 0.75: 8 heart_disease -> 65.22% NORMAL    \n",
    "\n",
    "- With chest_pain > 3.5 AND old_peak > 0.75: 36 heart_disease -> 100% HEART DISEASE\n",
    "\n",
    "The principal factors that indicate a higher risk of heart disease for hungarian citizens are an elevated chest pain, being male,\n",
    "higher ST deviation as a result of physical exercise, especially if there is discrepancies in a resting electrocardiographic test.\n",
    "</div>"
   ]
  }
 ],
 "metadata": {
  "kernelspec": {
   "display_name": "Python 3",
   "language": "python",
   "name": "python3"
  },
  "language_info": {
   "name": "python",
   "version": "3.12.3"
  }
 },
 "nbformat": 4,
 "nbformat_minor": 5
}
